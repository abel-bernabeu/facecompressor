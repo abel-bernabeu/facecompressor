{
 "cells": [
  {
   "cell_type": "code",
   "execution_count": null,
   "metadata": {},
   "outputs": [],
   "source": [
    "import cv2 \n",
    "import os\n",
    "import glob\n",
    "import random\n",
    "from tqdm import tqdm"
   ]
  },
  {
   "cell_type": "code",
   "execution_count": null,
   "metadata": {},
   "outputs": [],
   "source": [
    "autoencoder_path = '/home/abel/autoencoder/'\n",
    "data_path = autoencoder_path + 'data/'\n",
    "voxceleb2_path = data_path + 'voxceleb2/'\n",
    "subset_path = data_path + 'image_dataset/'"
   ]
  },
  {
   "cell_type": "code",
   "execution_count": null,
   "metadata": {},
   "outputs": [],
   "source": [
    "!mkdir -p {subset_path}\n",
    "!mkdir -p {subset_path}/train\n",
    "!mkdir -p {subset_path}/test"
   ]
  },
  {
   "cell_type": "code",
   "execution_count": null,
   "metadata": {},
   "outputs": [],
   "source": [
    "def extract_frames(video, output_prefix):\n",
    "\n",
    "    cam = cv2.VideoCapture(video)\n",
    "\n",
    "    # Capture first frame \n",
    "    count = 0\n",
    "    ret, frame = cam.read() \n",
    "\n",
    "    while (ret): \n",
    "\n",
    "        output = output_prefix + '_' + str(count) + '.jpg'\n",
    "        cv2.imwrite(output, frame) \n",
    "\n",
    "        # Advance 10000 msec and capture\n",
    "        count += 1\n",
    "        cam.set(cv2.CAP_PROP_POS_MSEC, count*10000)\n",
    "        ret, frame = cam.read()\n",
    "\n",
    "    cam.release() "
   ]
  },
  {
   "cell_type": "code",
   "execution_count": null,
   "metadata": {},
   "outputs": [],
   "source": [
    "def build_subset(set, size):\n",
    "\n",
    "    # Create a list of videos\n",
    "    videos = []\n",
    "    for file in glob.iglob(voxceleb2_path + set + '/mp4/*/*/*.mp4'):\n",
    "        videos.append(file)\n",
    "\n",
    "    # Pick a randon sample\n",
    "    videos = random.sample(videos, size)\n",
    " \n",
    "    # Read the videos from specified path \n",
    "    for video in tqdm(videos):\n",
    "\n",
    "        # Set output prefix\n",
    "        path_split = video.split('/')\n",
    "        third_to_last = path_split[len(path_split) - 3]\n",
    "        second_to_last = path_split[len(path_split) - 2]\n",
    "        last = path_split[len(path_split) - 1]\n",
    "        last = last.split('.')[0]\n",
    "        prefix =  subset_path  + set + '/' + third_to_last + '_' + second_to_last + '_' + last\n",
    "\n",
    "        extract_frames(video, prefix)"
   ]
  },
  {
   "cell_type": "code",
   "execution_count": null,
   "metadata": {},
   "outputs": [],
   "source": [
    "build_subset('test', 5000)"
   ]
  },
  {
   "cell_type": "code",
   "execution_count": null,
   "metadata": {},
   "outputs": [],
   "source": [
    "build_subset('train', 50000)"
   ]
  },
  {
   "cell_type": "code",
   "execution_count": null,
   "metadata": {},
   "outputs": [],
   "source": [
    "! cd {autoencoder_path} && rm image_dataset.zip -rf && zip -r image_dataset.zip data/image_dataset"
   ]
  }
 ],
 "metadata": {
  "kernelspec": {
   "display_name": "Python 3",
   "language": "python",
   "name": "python3"
  },
  "language_info": {
   "codemirror_mode": {
    "name": "ipython",
    "version": 3
   },
   "file_extension": ".py",
   "mimetype": "text/x-python",
   "name": "python",
   "nbconvert_exporter": "python",
   "pygments_lexer": "ipython3",
   "version": "3.7.6"
  }
 },
 "nbformat": 4,
 "nbformat_minor": 4
}
